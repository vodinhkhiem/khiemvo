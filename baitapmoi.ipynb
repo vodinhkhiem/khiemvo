{
 "cells": [
  {
   "cell_type": "code",
   "execution_count": 47,
   "id": "cb38a968",
   "metadata": {},
   "outputs": [
    {
     "data": {
      "text/plain": [
       "<matplotlib.collections.PathCollection at 0x257735af110>"
      ]
     },
     "execution_count": 47,
     "metadata": {},
     "output_type": "execute_result"
    },
    {
     "data": {
      "image/png": "[encoded data removed]",
      "text/plain": [
       "<Figure size 640x480 with 1 Axes>"
      ]
     },
     "metadata": {},
     "output_type": "display_data"
    }
   ],
   "source": [
    "import matplotlib.pyplot as plt\n",
    "x = [1, 2, 3, 4, 5, 6, 7]\n",
    "y = [2, 4, 2, 4, 2, 4, 2]\n",
    "\n",
    "plt.axis((0, 10, 0, 10)) # (Xmin, Xmax, Ymin, Ymax) gioi han he truc toa do\n",
    "# plt.plot(x, y, marker = 'o') ve bieu do duong (thang or cong)\n",
    "plt.scatter(x, y, marker = 'o') # ve bieu do diem"
   ]
  },
  {
   "cell_type": "code",
   "execution_count": null,
   "id": "aab0f9f1",
   "metadata": {},
   "outputs": [
    {
     "data": {
      "image/png": "[encoded data removed]",
      "text/plain": [
       "<Figure size 640x480 with 1 Axes>"
      ]
     },
     "metadata": {},
     "output_type": "display_data"
    }
   ],
   "source": [
    "# %pip install openpyxl\n",
    "import matplotlib.pyplot as plt\n",
    "import pandas as pd\n",
    "\n",
    "df = pd.read_excel(\"filetext.xlsx\") # doc file excel\n",
    "plt.hist(df['diem'], color = 'red', bins = 5) #bins la chia du lieu thanh 5 khoang\n",
    "plt.show()"
   ]
  },
  {
   "cell_type": "code",
   "execution_count": 40,
   "id": "51803516",
   "metadata": {},
   "outputs": [],
   "source": [
    "from urllib.request import urlopen\n",
    "import json\n",
    "\n",
    "api_key = '040fb0491e93c370b81669d3a36d373c'\n",
    "url = 'https://api.themoviedb.org/3/movie/popular?api_key='+api_key+'&language=en-VN&page=1'\n",
    "response = urlopen(url)\n",
    "data_json = json.loads(response.read())\n",
    "\n",
    "data = []\n",
    "for row in data_json['results']:\n",
    "    tmp = []\n",
    "    tmp.append(row['id'])\n",
    "    tmp.append(row['title'])\n",
    "    tmp.append(row['original_title'])\n",
    "    tmp.append(row['vote_average'])\n",
    "    data.append(tmp)\n",
    "\n"
   ]
  },
  {
   "cell_type": "code",
   "execution_count": 41,
   "id": "6dc97893",
   "metadata": {},
   "outputs": [],
   "source": [
    "import csv\n",
    "with open('data_the_movie_db.csv','wt',newline='\\n', encoding='utf-8') as file:\n",
    "    header = ['id', 'movie_name','original_name','vote_average']\n",
    "    csv_writer = csv.writer(file)\n",
    "    csv_writer.writerow(header) # write header\n",
    "    csv_writer.writerows(data)\n",
    "\n",
    "# %pip install xlwt\n",
    "import xlwt\n",
    "from xlwt import Workbook\n",
    "\n",
    "wb = Workbook()\n",
    "sheet = wb.add_sheet('Sheet 1')\n",
    "sheet.write(0, 0, 'id')\n",
    "sheet.write(0, 1, 'movie_name')\n",
    "sheet.write(0, 2, 'original_name')\n",
    "sheet.write(0, 3, 'vote_average')\n",
    "\n",
    "for k, r in enumerate(data):\n",
    "    for j in range(len(r)):\n",
    "        sheet.write(k+1,j,r[j])\n",
    "\n",
    "wb.save('data_the_movie_db_1.xls')\n"
   ]
  },
  {
   "cell_type": "code",
   "execution_count": 42,
   "id": "33a421fb",
   "metadata": {},
   "outputs": [],
   "source": [
    "import csv\n",
    "with open('data_the_movie_db.csv','wt',newline='\\n', encoding='utf-8') as file:\n",
    "    header = ['id', 'movie_name', 'vote_average']\n",
    "    csv_writer = csv.writer(file)\n",
    "    csv_writer.writerow(header) # write header\n",
    "    csv_writer.writerows(data)\n",
    "import xlwt\n",
    "from xlwt import Workbook\n",
    "\n",
    "wb = Workbook()\n",
    "sheet = wb.add_sheet('Sheet 1')\n",
    "sheet.write(0, 0, 'id')\n",
    "sheet.write(0, 1, 'movie_name')\n",
    "sheet.write(0, 2, 'vote_average')\n",
    "\n",
    "for k, r in enumerate(data):\n",
    "    for j in range(len(r)):\n",
    "        sheet.write(k+1,j,r[j])\n",
    "\n",
    "wb.save('data_the_movie_db_2.xls')"
   ]
  },
  {
   "cell_type": "code",
   "execution_count": 45,
   "id": "d15fa2e7",
   "metadata": {},
   "outputs": [
    {
     "name": "stdout",
     "output_type": "stream",
     "text": [
      "+---------+------------------------------------------------+----------------------------------------------+--------+\n",
      "|      id | name                                           | original_name                                |   vote |\n",
      "+=========+================================================+==============================================+========+\n",
      "|  755898 | War of the Worlds                              | War of the Worlds                            |  4.167 |\n",
      "+---------+------------------------------------------------+----------------------------------------------+--------+\n",
      "| 1061474 | Superman                                       | Superman                                     |  7.612 |\n",
      "+---------+------------------------------------------------+----------------------------------------------+--------+\n",
      "| 1234821 | Jurassic World Rebirth                         | Jurassic World Rebirth                       |  6.377 |\n",
      "+---------+------------------------------------------------+----------------------------------------------+--------+\n",
      "| 1382406 | Striking Rescue                                | 惊天大营救                                   |  7.674 |\n",
      "+---------+------------------------------------------------+----------------------------------------------+--------+\n",
      "| 1241470 | Osiris                                         | Osiris                                       |  6.5   |\n",
      "+---------+------------------------------------------------+----------------------------------------------+--------+\n",
      "|  575265 | Mission: Impossible - The Final Reckoning      | Mission: Impossible - The Final Reckoning    |  7.211 |\n",
      "+---------+------------------------------------------------+----------------------------------------------+--------+\n",
      "| 1311031 | Demon Slayer: Kimetsu no Yaiba Infinity Castle | 劇場版「鬼滅の刃」無限城編 第一章 猗窩座再来 |  7.199 |\n",
      "+---------+------------------------------------------------+----------------------------------------------+--------+\n",
      "| 1319895 | Hostile Takeover                               | Hostile Takeover                             |  7.167 |\n",
      "+---------+------------------------------------------------+----------------------------------------------+--------+\n",
      "| 1087192 | How to Train Your Dragon                       | How to Train Your Dragon                     |  8     |\n",
      "+---------+------------------------------------------------+----------------------------------------------+--------+\n",
      "| 1195631 | William Tell                                   | William Tell                                 |  6.376 |\n",
      "+---------+------------------------------------------------+----------------------------------------------+--------+\n",
      "| 1185528 | Legends of the Condor Heroes: The Gallants     | 射雕英雄传：侠之大者                         |  6.617 |\n",
      "+---------+------------------------------------------------+----------------------------------------------+--------+\n",
      "| 1106289 | The Pickup                                     | The Pickup                                   |  6.508 |\n",
      "+---------+------------------------------------------------+----------------------------------------------+--------+\n",
      "| 1078605 | Weapons                                        | Weapons                                      |  7.6   |\n",
      "+---------+------------------------------------------------+----------------------------------------------+--------+\n",
      "|  936108 | Smurfs                                         | Smurfs                                       |  6.1   |\n",
      "+---------+------------------------------------------------+----------------------------------------------+--------+\n",
      "|  986206 | Night Carnage                                  | Night Carnage                                |  5.925 |\n",
      "+---------+------------------------------------------------+----------------------------------------------+--------+\n",
      "| 1285247 | Murder Company                                 | Murder Company                               |  5.667 |\n",
      "+---------+------------------------------------------------+----------------------------------------------+--------+\n",
      "| 1155281 | Creation of the Gods II: Demon Force           | 封神第二部：战火西岐                         |  6.28  |\n",
      "+---------+------------------------------------------------+----------------------------------------------+--------+\n",
      "|  980477 | Ne Zha 2                                       | 哪吒之魔童闹海                               |  7.98  |\n",
      "+---------+------------------------------------------------+----------------------------------------------+--------+\n",
      "|  617126 | The Fantastic 4: First Steps                   | The Fantastic 4: First Steps                 |  7.242 |\n",
      "+---------+------------------------------------------------+----------------------------------------------+--------+\n",
      "|  803796 | KPop Demon Hunters                             | KPop Demon Hunters                           |  8.4   |\n",
      "+---------+------------------------------------------------+----------------------------------------------+--------+\n"
     ]
    }
   ],
   "source": [
    "# %pip install tabulate\n",
    "import pandas as pd\n",
    "from tabulate import tabulate\n",
    "\n",
    "headername = ['id', 'name', 'original_name', 'vote']\n",
    "data = pd.read_csv('data_the_movie_db.csv', names=headername)\n",
    "\n",
    "data_str = data.head(20)\n",
    "print(tabulate(data_str.values.tolist(), headers=list(data_str.columns), tablefmt='grid', showindex=False))"
   ]
  }
 ],
 "metadata": {
  "kernelspec": {
   "display_name": "Python 3",
   "language": "python",
   "name": "python3"
  },
  "language_info": {
   "codemirror_mode": {
    "name": "ipython",
    "version": 3
   },
   "file_extension": ".py",
   "mimetype": "text/x-python",
   "name": "python",
   "nbconvert_exporter": "python",
   "pygments_lexer": "ipython3",
   "version": "3.13.5"
  }
 },
 "nbformat": 4,
 "nbformat_minor": 5
}
