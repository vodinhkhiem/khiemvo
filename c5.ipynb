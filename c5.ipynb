{
 "cells": [
  {
   "cell_type": "code",
   "execution_count": 1,
   "id": "4285c1ef",
   "metadata": {},
   "outputs": [
    {
     "name": "stdout",
     "output_type": "stream",
     "text": [
      "✅ Đã xuất file data_the_movie_db.csv và data_the_movie_db.xls thành công!\n"
     ]
    }
   ],
   "source": [
    "from urllib.request import urlopen\n",
    "import json\n",
    "import csv\n",
    "import xlwt\n",
    "from xlwt import Workbook\n",
    "\n",
    "# API key của bạn\n",
    "api_key = '20189b33d735f814a8fc0944518c7e93'\n",
    "\n",
    "# Lấy dữ liệu phim phổ biến từ TMDB\n",
    "url = f'https://api.themoviedb.org/3/movie/popular?api_key={api_key}&language=en-US&page=1'\n",
    "response = urlopen(url)\n",
    "data_json = json.loads(response.read())\n",
    "\n",
    "# Xử lý dữ liệu phim\n",
    "data = []\n",
    "for row in data_json['results']:\n",
    "    tmp = [\n",
    "        row['id'],\n",
    "        row['title'],\n",
    "        row['original_title'],\n",
    "        row['vote_average']\n",
    "    ]\n",
    "    data.append(tmp)\n",
    "\n",
    "# --- Xuất ra CSV ---\n",
    "with open('data_the_movie_db.csv', 'w', newline='', encoding='utf-8') as file:\n",
    "    header = ['id', 'movie_name', 'original_name', 'vote_average']\n",
    "    csv_writer = csv.writer(file)\n",
    "    csv_writer.writerow(header)  # viết header\n",
    "    csv_writer.writerows(data)\n",
    "\n",
    "# --- Xuất ra Excel (xls) ---\n",
    "wb = Workbook()\n",
    "sheet = wb.add_sheet('Sheet 1')\n",
    "\n",
    "# Header\n",
    "sheet.write(0, 0, 'id')\n",
    "sheet.write(0, 1, 'movie_name')\n",
    "sheet.write(0, 2, 'original_name')\n",
    "sheet.write(0, 3, 'vote_average')\n",
    "\n",
    "# Ghi dữ liệu\n",
    "for k, r in enumerate(data):\n",
    "    for j in range(len(r)):\n",
    "        sheet.write(k + 1, j, r[j])\n",
    "\n",
    "wb.save('data_the_movie_db.xls')\n",
    "\n",
    "print(\"✅ Đã xuất file data_the_movie_db.csv và data_the_movie_db.xls thành công!\")"
   ]
  }
 ],
 "metadata": {
  "kernelspec": {
   "display_name": "Python 3",
   "language": "python",
   "name": "python3"
  },
  "language_info": {
   "codemirror_mode": {
    "name": "ipython",
    "version": 3
   },
   "file_extension": ".py",
   "mimetype": "text/x-python",
   "name": "python",
   "nbconvert_exporter": "python",
   "pygments_lexer": "ipython3",
   "version": "3.13.5"
  }
 },
 "nbformat": 4,
 "nbformat_minor": 5
}
